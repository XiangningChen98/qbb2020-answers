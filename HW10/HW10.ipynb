{
 "cells": [
  {
   "cell_type": "code",
   "execution_count": 50,
   "metadata": {},
   "outputs": [],
   "source": [
    "import seaborn as sns\n",
    "import numpy as np\n",
    "import pandas as pd\n",
    "import matplotlib.pyplot as plt"
   ]
  },
  {
   "cell_type": "markdown",
   "metadata": {},
   "source": [
    "# Step0"
   ]
  },
  {
   "cell_type": "markdown",
   "metadata": {},
   "source": [
    "-check the kraken files."
   ]
  },
  {
   "cell_type": "code",
   "execution_count": 2,
   "metadata": {
    "scrolled": true
   },
   "outputs": [
    {
     "name": "stderr",
     "output_type": "stream",
     "text": [
      "IOPub data rate exceeded.\n",
      "The notebook server will temporarily stop sending output\n",
      "to the client in order to avoid crashing it.\n",
      "To change this limit, set the config variable\n",
      "`--NotebookApp.iopub_data_rate_limit`.\n",
      "\n",
      "Current values:\n",
      "NotebookApp.iopub_data_rate_limit=1000000.0 (bytes/sec)\n",
      "NotebookApp.rate_limit_window=3.0 (secs)\n",
      "\n"
     ]
    }
   ],
   "source": [
    "\n",
    "%%bash\n",
    "cd week13_data/\n",
    "cd KRAKEN\n",
    "less -S SRR492183.kraken"
   ]
  },
  {
   "cell_type": "markdown",
   "metadata": {},
   "source": [
    "# Step1: Investigate the taxonomic profile of the reads"
   ]
  },
  {
   "cell_type": "code",
   "execution_count": 10,
   "metadata": {},
   "outputs": [
    {
     "name": "stdout",
     "output_type": "stream",
     "text": [
      "Process is interrupted.\n"
     ]
    }
   ],
   "source": [
    "cd week13_data/\n",
    "cd KRAKEN\n",
    "for file in *.kraken\n",
    "do \n",
    "\techo \"$file\"\n",
    "\tcat $file | tr '[;]'  '[\\t]' |sed 's/^..........//'>  \"$file\".txt\n",
    "\tKtImportText /Users/xiangning/qbb2020-answers/HW10/week13_data/KRAKEN/\"$file\".txt -o \"$file\".html\n",
    "done"
   ]
  },
  {
   "cell_type": "markdown",
   "metadata": {},
   "source": [
    "## Question1\n",
    "- During the 8-day development, the percentage of enterococcis faecalis is decreasing, and the percentage of staphylococcus epidermidis is increasing.\n",
    "- Enterococcus faecalis account for the majority part for the whole 8 days.\n",
    "- Cutibacterium avidum 44067 start to appear on day7 and increased a lot on day8."
   ]
  },
  {
   "cell_type": "markdown",
   "metadata": {},
   "source": [
    "# Step2"
   ]
  },
  {
   "cell_type": "markdown",
   "metadata": {},
   "source": [
    "### Question 2\n",
    "- Maybe the length, the GC content and the RPKM."
   ]
  },
  {
   "cell_type": "code",
   "execution_count": 12,
   "metadata": {},
   "outputs": [
    {
     "name": "stderr",
     "output_type": "stream",
     "text": [
      "[bwa_index] Pack FASTA... 0.24 sec\n",
      "[bwa_index] Construct BWT for the packed sequence...\n",
      "[BWTIncCreate] textLength=76143372, availableWord=17357436\n",
      "[BWTIncConstructFromPacked] 10 iterations done. 28631228 characters processed.\n",
      "[BWTIncConstructFromPacked] 20 iterations done. 52892140 characters processed.\n",
      "[BWTIncConstructFromPacked] 30 iterations done. 74451276 characters processed.\n",
      "[bwt_gen] Finished constructing BWT in 31 iterations.\n",
      "[bwa_index] 16.76 seconds elapse.\n",
      "[bwa_index] Update BWT... 0.15 sec\n",
      "[bwa_index] Pack forward-only FASTA... 0.15 sec\n",
      "[bwa_index] Construct SA from BWT and Occ... 7.18 sec\n",
      "[main] Version: 0.7.17-r1188\n",
      "[main] CMD: bwa index assembly.fasta\n",
      "[main] Real time: 24.557 sec; CPU: 24.483 sec\n"
     ]
    }
   ],
   "source": [
    "#indexing\n",
    "%%bash\n",
    "cd /Users/xiangning/qbb2020-answers/HW10/week13_data/\n",
    "bwa index assembly.fasta\n",
    "#alignment\n",
    "cd /Users/xiangning/qbb2020-answers/HW10/week13_data/READS/\n",
    "for sample in SRR492183 SRR492186 SRR492188 SRR492189 SRR492190 SRR492193 SRR492194 SRR492197\n",
    "do\n",
    "\tbwa mem -R \"@RG\\tID:${sample}\\tSM:${sample}\" -t 4 /Users/xiangning/qbb2020-answers/HW10/week13_data/assembly.fasta ${sample}_1.fastq ${sample}_2.fastq > /Users/xiangning/qbb2020-answers/HW10/week13_data/BAM/${sample}.sam\n",
    "\t\n",
    "done"
   ]
  },
  {
   "cell_type": "code",
   "execution_count": null,
   "metadata": {},
   "outputs": [],
   "source": [
    "##sorting\n",
    "for sample in SRR492183 SRR492186 SRR492188 SRR492189 SRR492190 SRR492193 SRR492194 SRR492197\n",
    "do\n",
    "\tsamtools sort \"$sample\".sam -o \"$sample\"_sorted.bam\n",
    "done"
   ]
  },
  {
   "cell_type": "code",
   "execution_count": null,
   "metadata": {},
   "outputs": [],
   "source": [
    "%%bash\n",
    "# move assembly to the BAM folder\n",
    "metabat2 -i assembly.fasta -a assembly.fasta.depth.txt -o bins_dir/bin\n",
    "#MetaBAT 2 (2.15 (Bioconda)) using minContig 2500, minCV 1.0, minCVSum 1.0, maxP 95%, minS 60, maxEdges 200 and minClsSize 200000. with random seed=1607136400\n",
    "#6 bins (13187322 bases in total) formed.\n"
   ]
  },
  {
   "cell_type": "markdown",
   "metadata": {},
   "source": [
    "## Question3\n",
    "- (A) I got 6 bins.\n",
    "- (B) They presented 34.4% roughly.\n",
    "- (C) The size of each bin is 1-3MB, and bacterial genomes can range in size anywhere from about 130 KB to over 14 MB, so they should be fine.\n",
    "- (D) To align them back to the the bacteria genome to see the covery and correctness.\n"
   ]
  },
  {
   "cell_type": "markdown",
   "metadata": {},
   "source": [
    "# Step 3\n"
   ]
  },
  {
   "cell_type": "code",
   "execution_count": 20,
   "metadata": {},
   "outputs": [],
   "source": [
    "%%bash\n",
    "cd ~/qbb2020-answers/HW10/bins\n",
    "for file in *.fa\n",
    "do\n",
    "    head -1 $file|cut -c2- >>heads.txt\n",
    "done \n",
    "\n",
    "grep -f heads.txt /Users/xiangning/qbb2020-answers/HW10/week13_data/KRAKEN/assembly.kraken >> results.txt\n",
    "\n",
    "\n",
    "\n"
   ]
  },
  {
   "cell_type": "markdown",
   "metadata": {},
   "source": [
    "## Question 4"
   ]
  },
  {
   "cell_type": "code",
   "execution_count": 40,
   "metadata": {},
   "outputs": [
    {
     "name": "stdout",
     "output_type": "stream",
     "text": [
      "bin  1   Staphylococcus aureus subsp. aureus CN1\n",
      "\n",
      "bin  2   Staphylococcus epidermidis RP62A\n",
      "\n",
      "bin  3   Leuconostoc citreum KM20\n",
      "\n",
      "bin  4   Staphylococcus lugdunensis HKU09-01\n",
      "\n",
      "bin  5   Staphylococcus haemolyticus JCSC1435\n",
      "\n",
      "bin  6   Anaerococcus prevotii DSM 20548\n",
      "\n",
      "bin  7   Cutibacterium avidum 44067\n",
      "\n",
      "bin  8   Enterococcus faecalis OG1RF\n",
      "\n"
     ]
    }
   ],
   "source": [
    "f = open(\"/Users/xiangning/qbb2020-answers/HW10/bins/results.txt\", \"r\")\n",
    "class_list=[]\n",
    "for line in f:\n",
    "    item=[]\n",
    "    item.append(line.split(\"\\t\")[0])\n",
    "    item.extend(line.split(\"\\t\")[1].split(\";\"))\n",
    "    class_list.append(item)\n",
    "    \n",
    "f.close()\n",
    " \n",
    "name_list=[]\n",
    "for i,num in zip(class_list,[1,2,3,4,5,6,7,8]):\n",
    "    print(\"bin \",num,\" \",i[-1])\n",
    "    name_list.append(i[-1])"
   ]
  },
  {
   "cell_type": "markdown",
   "metadata": {},
   "source": [
    "- (B) Blast the genome to the database to directly find what species they belong to."
   ]
  },
  {
   "cell_type": "markdown",
   "metadata": {},
   "source": [
    "# Step4: Make a heatmap of the individual bin abundances over time"
   ]
  },
  {
   "cell_type": "code",
   "execution_count": 54,
   "metadata": {},
   "outputs": [
    {
     "data": {
      "text/html": [
       "<div>\n",
       "<style scoped>\n",
       "    .dataframe tbody tr th:only-of-type {\n",
       "        vertical-align: middle;\n",
       "    }\n",
       "\n",
       "    .dataframe tbody tr th {\n",
       "        vertical-align: top;\n",
       "    }\n",
       "\n",
       "    .dataframe thead th {\n",
       "        text-align: right;\n",
       "    }\n",
       "</style>\n",
       "<table border=\"1\" class=\"dataframe\">\n",
       "  <thead>\n",
       "    <tr style=\"text-align: right;\">\n",
       "      <th></th>\n",
       "      <th>SRR492065</th>\n",
       "      <th>SRR492066</th>\n",
       "      <th>SRR492182</th>\n",
       "      <th>SRR492183</th>\n",
       "      <th>SRR492184</th>\n",
       "      <th>SRR492185</th>\n",
       "      <th>SRR492186</th>\n",
       "      <th>SRR492187</th>\n",
       "      <th>SRR492188</th>\n",
       "      <th>SRR492189</th>\n",
       "      <th>SRR492190</th>\n",
       "      <th>SRR492191</th>\n",
       "      <th>SRR492192</th>\n",
       "      <th>SRR492193</th>\n",
       "      <th>SRR492194</th>\n",
       "      <th>SRR492195</th>\n",
       "      <th>SRR492196</th>\n",
       "      <th>SRR492197</th>\n",
       "    </tr>\n",
       "  </thead>\n",
       "  <tbody>\n",
       "    <tr>\n",
       "      <th>Staphylococcus aureus subsp. aureus CN1\\n</th>\n",
       "      <td>71.420624</td>\n",
       "      <td>67.688884</td>\n",
       "      <td>54.858154</td>\n",
       "      <td>50.103235</td>\n",
       "      <td>96.383771</td>\n",
       "      <td>175.127948</td>\n",
       "      <td>167.273691</td>\n",
       "      <td>190.391037</td>\n",
       "      <td>102.432386</td>\n",
       "      <td>97.521190</td>\n",
       "      <td>14.523105</td>\n",
       "      <td>14.685431</td>\n",
       "      <td>179.006341</td>\n",
       "      <td>172.449773</td>\n",
       "      <td>53.357374</td>\n",
       "      <td>49.834345</td>\n",
       "      <td>335.756912</td>\n",
       "      <td>72.544371</td>\n",
       "    </tr>\n",
       "    <tr>\n",
       "      <th>Staphylococcus epidermidis RP62A\\n</th>\n",
       "      <td>7240.045338</td>\n",
       "      <td>7247.577187</td>\n",
       "      <td>4178.397657</td>\n",
       "      <td>4115.242526</td>\n",
       "      <td>11633.667679</td>\n",
       "      <td>9219.720953</td>\n",
       "      <td>9348.741359</td>\n",
       "      <td>9979.380909</td>\n",
       "      <td>8139.870719</td>\n",
       "      <td>8308.156703</td>\n",
       "      <td>5267.858711</td>\n",
       "      <td>5780.879180</td>\n",
       "      <td>6151.257743</td>\n",
       "      <td>6267.155205</td>\n",
       "      <td>6550.505763</td>\n",
       "      <td>6646.119922</td>\n",
       "      <td>11597.033828</td>\n",
       "      <td>8745.103316</td>\n",
       "    </tr>\n",
       "    <tr>\n",
       "      <th>Leuconostoc citreum KM20\\n</th>\n",
       "      <td>6.087799</td>\n",
       "      <td>5.406628</td>\n",
       "      <td>1.986297</td>\n",
       "      <td>1.751119</td>\n",
       "      <td>31.799458</td>\n",
       "      <td>9.170054</td>\n",
       "      <td>8.887730</td>\n",
       "      <td>37.581807</td>\n",
       "      <td>5.838109</td>\n",
       "      <td>5.929623</td>\n",
       "      <td>4.583909</td>\n",
       "      <td>4.652603</td>\n",
       "      <td>1.629252</td>\n",
       "      <td>1.804228</td>\n",
       "      <td>3.259988</td>\n",
       "      <td>3.451473</td>\n",
       "      <td>8.348499</td>\n",
       "      <td>19.275630</td>\n",
       "    </tr>\n",
       "    <tr>\n",
       "      <th>Staphylococcus lugdunensis HKU09-01\\n</th>\n",
       "      <td>1869.640953</td>\n",
       "      <td>2034.534641</td>\n",
       "      <td>1232.387641</td>\n",
       "      <td>1566.783656</td>\n",
       "      <td>670.257316</td>\n",
       "      <td>0.747395</td>\n",
       "      <td>0.552469</td>\n",
       "      <td>108.026882</td>\n",
       "      <td>0.875860</td>\n",
       "      <td>0.356678</td>\n",
       "      <td>1.251430</td>\n",
       "      <td>0.772755</td>\n",
       "      <td>282.011644</td>\n",
       "      <td>315.740755</td>\n",
       "      <td>457.543378</td>\n",
       "      <td>593.767516</td>\n",
       "      <td>0.436084</td>\n",
       "      <td>4250.653466</td>\n",
       "    </tr>\n",
       "    <tr>\n",
       "      <th>Staphylococcus haemolyticus JCSC1435\\n</th>\n",
       "      <td>427.134461</td>\n",
       "      <td>392.881731</td>\n",
       "      <td>1427.905710</td>\n",
       "      <td>1335.147536</td>\n",
       "      <td>1027.807284</td>\n",
       "      <td>850.342196</td>\n",
       "      <td>820.872805</td>\n",
       "      <td>2391.501197</td>\n",
       "      <td>1033.761424</td>\n",
       "      <td>999.273162</td>\n",
       "      <td>1071.641137</td>\n",
       "      <td>1136.902519</td>\n",
       "      <td>1719.723610</td>\n",
       "      <td>1670.022745</td>\n",
       "      <td>1187.660153</td>\n",
       "      <td>1143.743857</td>\n",
       "      <td>1884.339618</td>\n",
       "      <td>936.681889</td>\n",
       "    </tr>\n",
       "    <tr>\n",
       "      <th>Anaerococcus prevotii DSM 20548\\n</th>\n",
       "      <td>714.809488</td>\n",
       "      <td>681.886830</td>\n",
       "      <td>2.467008</td>\n",
       "      <td>1.287979</td>\n",
       "      <td>2124.191118</td>\n",
       "      <td>2.312693</td>\n",
       "      <td>1.452063</td>\n",
       "      <td>7.140755</td>\n",
       "      <td>1.347894</td>\n",
       "      <td>0.747525</td>\n",
       "      <td>3.287205</td>\n",
       "      <td>1.496781</td>\n",
       "      <td>7.175036</td>\n",
       "      <td>6.459688</td>\n",
       "      <td>1124.427189</td>\n",
       "      <td>1093.414384</td>\n",
       "      <td>3.084744</td>\n",
       "      <td>590.194971</td>\n",
       "    </tr>\n",
       "    <tr>\n",
       "      <th>Cutibacterium avidum 44067\\n</th>\n",
       "      <td>3498.783627</td>\n",
       "      <td>3219.448810</td>\n",
       "      <td>0.223916</td>\n",
       "      <td>0.186461</td>\n",
       "      <td>889.316796</td>\n",
       "      <td>0.181546</td>\n",
       "      <td>0.065351</td>\n",
       "      <td>1.199693</td>\n",
       "      <td>4.223711</td>\n",
       "      <td>0.979570</td>\n",
       "      <td>0.259990</td>\n",
       "      <td>0.088835</td>\n",
       "      <td>4.114233</td>\n",
       "      <td>1.211367</td>\n",
       "      <td>73.851083</td>\n",
       "      <td>71.465536</td>\n",
       "      <td>0.698382</td>\n",
       "      <td>3366.910935</td>\n",
       "    </tr>\n",
       "    <tr>\n",
       "      <th>Enterococcus faecalis OG1RF\\n</th>\n",
       "      <td>24.206000</td>\n",
       "      <td>23.178964</td>\n",
       "      <td>2.759951</td>\n",
       "      <td>2.555610</td>\n",
       "      <td>1.259343</td>\n",
       "      <td>6.237916</td>\n",
       "      <td>6.194380</td>\n",
       "      <td>137.042032</td>\n",
       "      <td>0.475050</td>\n",
       "      <td>0.333899</td>\n",
       "      <td>0.491073</td>\n",
       "      <td>0.523699</td>\n",
       "      <td>79.491024</td>\n",
       "      <td>78.291586</td>\n",
       "      <td>6.639770</td>\n",
       "      <td>6.668268</td>\n",
       "      <td>1.563200</td>\n",
       "      <td>10.595311</td>\n",
       "    </tr>\n",
       "  </tbody>\n",
       "</table>\n",
       "</div>"
      ],
      "text/plain": [
       "                                             SRR492065    SRR492066  \\\n",
       "Staphylococcus aureus subsp. aureus CN1\\n    71.420624    67.688884   \n",
       "Staphylococcus epidermidis RP62A\\n         7240.045338  7247.577187   \n",
       "Leuconostoc citreum KM20\\n                    6.087799     5.406628   \n",
       "Staphylococcus lugdunensis HKU09-01\\n      1869.640953  2034.534641   \n",
       "Staphylococcus haemolyticus JCSC1435\\n      427.134461   392.881731   \n",
       "Anaerococcus prevotii DSM 20548\\n           714.809488   681.886830   \n",
       "Cutibacterium avidum 44067\\n               3498.783627  3219.448810   \n",
       "Enterococcus faecalis OG1RF\\n                24.206000    23.178964   \n",
       "\n",
       "                                             SRR492182    SRR492183  \\\n",
       "Staphylococcus aureus subsp. aureus CN1\\n    54.858154    50.103235   \n",
       "Staphylococcus epidermidis RP62A\\n         4178.397657  4115.242526   \n",
       "Leuconostoc citreum KM20\\n                    1.986297     1.751119   \n",
       "Staphylococcus lugdunensis HKU09-01\\n      1232.387641  1566.783656   \n",
       "Staphylococcus haemolyticus JCSC1435\\n     1427.905710  1335.147536   \n",
       "Anaerococcus prevotii DSM 20548\\n             2.467008     1.287979   \n",
       "Cutibacterium avidum 44067\\n                  0.223916     0.186461   \n",
       "Enterococcus faecalis OG1RF\\n                 2.759951     2.555610   \n",
       "\n",
       "                                              SRR492184    SRR492185  \\\n",
       "Staphylococcus aureus subsp. aureus CN1\\n     96.383771   175.127948   \n",
       "Staphylococcus epidermidis RP62A\\n         11633.667679  9219.720953   \n",
       "Leuconostoc citreum KM20\\n                    31.799458     9.170054   \n",
       "Staphylococcus lugdunensis HKU09-01\\n        670.257316     0.747395   \n",
       "Staphylococcus haemolyticus JCSC1435\\n      1027.807284   850.342196   \n",
       "Anaerococcus prevotii DSM 20548\\n           2124.191118     2.312693   \n",
       "Cutibacterium avidum 44067\\n                 889.316796     0.181546   \n",
       "Enterococcus faecalis OG1RF\\n                  1.259343     6.237916   \n",
       "\n",
       "                                             SRR492186    SRR492187  \\\n",
       "Staphylococcus aureus subsp. aureus CN1\\n   167.273691   190.391037   \n",
       "Staphylococcus epidermidis RP62A\\n         9348.741359  9979.380909   \n",
       "Leuconostoc citreum KM20\\n                    8.887730    37.581807   \n",
       "Staphylococcus lugdunensis HKU09-01\\n         0.552469   108.026882   \n",
       "Staphylococcus haemolyticus JCSC1435\\n      820.872805  2391.501197   \n",
       "Anaerococcus prevotii DSM 20548\\n             1.452063     7.140755   \n",
       "Cutibacterium avidum 44067\\n                  0.065351     1.199693   \n",
       "Enterococcus faecalis OG1RF\\n                 6.194380   137.042032   \n",
       "\n",
       "                                             SRR492188    SRR492189  \\\n",
       "Staphylococcus aureus subsp. aureus CN1\\n   102.432386    97.521190   \n",
       "Staphylococcus epidermidis RP62A\\n         8139.870719  8308.156703   \n",
       "Leuconostoc citreum KM20\\n                    5.838109     5.929623   \n",
       "Staphylococcus lugdunensis HKU09-01\\n         0.875860     0.356678   \n",
       "Staphylococcus haemolyticus JCSC1435\\n     1033.761424   999.273162   \n",
       "Anaerococcus prevotii DSM 20548\\n             1.347894     0.747525   \n",
       "Cutibacterium avidum 44067\\n                  4.223711     0.979570   \n",
       "Enterococcus faecalis OG1RF\\n                 0.475050     0.333899   \n",
       "\n",
       "                                             SRR492190    SRR492191  \\\n",
       "Staphylococcus aureus subsp. aureus CN1\\n    14.523105    14.685431   \n",
       "Staphylococcus epidermidis RP62A\\n         5267.858711  5780.879180   \n",
       "Leuconostoc citreum KM20\\n                    4.583909     4.652603   \n",
       "Staphylococcus lugdunensis HKU09-01\\n         1.251430     0.772755   \n",
       "Staphylococcus haemolyticus JCSC1435\\n     1071.641137  1136.902519   \n",
       "Anaerococcus prevotii DSM 20548\\n             3.287205     1.496781   \n",
       "Cutibacterium avidum 44067\\n                  0.259990     0.088835   \n",
       "Enterococcus faecalis OG1RF\\n                 0.491073     0.523699   \n",
       "\n",
       "                                             SRR492192    SRR492193  \\\n",
       "Staphylococcus aureus subsp. aureus CN1\\n   179.006341   172.449773   \n",
       "Staphylococcus epidermidis RP62A\\n         6151.257743  6267.155205   \n",
       "Leuconostoc citreum KM20\\n                    1.629252     1.804228   \n",
       "Staphylococcus lugdunensis HKU09-01\\n       282.011644   315.740755   \n",
       "Staphylococcus haemolyticus JCSC1435\\n     1719.723610  1670.022745   \n",
       "Anaerococcus prevotii DSM 20548\\n             7.175036     6.459688   \n",
       "Cutibacterium avidum 44067\\n                  4.114233     1.211367   \n",
       "Enterococcus faecalis OG1RF\\n                79.491024    78.291586   \n",
       "\n",
       "                                             SRR492194    SRR492195  \\\n",
       "Staphylococcus aureus subsp. aureus CN1\\n    53.357374    49.834345   \n",
       "Staphylococcus epidermidis RP62A\\n         6550.505763  6646.119922   \n",
       "Leuconostoc citreum KM20\\n                    3.259988     3.451473   \n",
       "Staphylococcus lugdunensis HKU09-01\\n       457.543378   593.767516   \n",
       "Staphylococcus haemolyticus JCSC1435\\n     1187.660153  1143.743857   \n",
       "Anaerococcus prevotii DSM 20548\\n          1124.427189  1093.414384   \n",
       "Cutibacterium avidum 44067\\n                 73.851083    71.465536   \n",
       "Enterococcus faecalis OG1RF\\n                 6.639770     6.668268   \n",
       "\n",
       "                                              SRR492196    SRR492197  \n",
       "Staphylococcus aureus subsp. aureus CN1\\n    335.756912    72.544371  \n",
       "Staphylococcus epidermidis RP62A\\n         11597.033828  8745.103316  \n",
       "Leuconostoc citreum KM20\\n                     8.348499    19.275630  \n",
       "Staphylococcus lugdunensis HKU09-01\\n          0.436084  4250.653466  \n",
       "Staphylococcus haemolyticus JCSC1435\\n      1884.339618   936.681889  \n",
       "Anaerococcus prevotii DSM 20548\\n              3.084744   590.194971  \n",
       "Cutibacterium avidum 44067\\n                   0.698382  3366.910935  \n",
       "Enterococcus faecalis OG1RF\\n                  1.563200    10.595311  "
      ]
     },
     "execution_count": 54,
     "metadata": {},
     "output_type": "execute_result"
    }
   ],
   "source": [
    "data = pd.read_csv(\"abundance_table.tab\",index_col=0,sep='\\t') \n",
    "data.index = name_list\n",
    "rslt_df = data.sort_index(axis = 1) \n",
    "\n",
    "rslt_df"
   ]
  },
  {
   "cell_type": "code",
   "execution_count": 55,
   "metadata": {},
   "outputs": [
    {
     "data": {
      "image/png": "[encoded data removed]",
      "text/plain": [
       "<Figure size 432x288 with 2 Axes>"
      ]
     },
     "metadata": {
      "needs_background": "light"
     },
     "output_type": "display_data"
    }
   ],
   "source": [
    "sns.heatmap(rslt_df)\n",
    "plt.title('heatmap of abundance')\n",
    "plt.savefig(\"heatmap of abundance'.png\")\n",
    "plt.show()"
   ]
  },
  {
   "cell_type": "markdown",
   "metadata": {},
   "source": [
    "- It corresponds to the result that staphylococcus epidermidis is the most abundant.\n",
    "- It also corresponds to the change tendency of cutibacterium avidum as it start to be aundant on the last day."
   ]
  }
 ],
 "metadata": {
  "kernelspec": {
   "display_name": "Python 3",
   "language": "python",
   "name": "python3"
  },
  "language_info": {
   "codemirror_mode": {
    "name": "ipython",
    "version": 3
   },
   "file_extension": ".py",
   "mimetype": "text/x-python",
   "name": "python",
   "nbconvert_exporter": "python",
   "pygments_lexer": "ipython3",
   "version": "3.6.11"
  }
 },
 "nbformat": 4,
 "nbformat_minor": 4
}
