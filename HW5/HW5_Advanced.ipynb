{
 "cells": [
  {
   "cell_type": "code",
   "execution_count": 4,
   "metadata": {},
   "outputs": [],
   "source": [
    "import pandas as pd\n",
    "import numpy as np\n",
    "import matplotlib.pyplot as plt"
   ]
  },
  {
   "cell_type": "code",
   "execution_count": 9,
   "metadata": {},
   "outputs": [
    {
     "name": "stdout",
     "output_type": "stream",
     "text": [
      "73\n",
      "84\n"
     ]
    }
   ],
   "source": [
    "fs=open(\"motif1.txt\")\n",
    "matched_motifs=[]\n",
    "start_list=[]\n",
    "end_list=[]\n",
    "for line in fs:\n",
    "    peak_start_pos=int(line.split()[0].split(\":\")[1].split(\"-\")[0])\n",
    "    peak_end_pos=int(line.split()[0].split(\":\")[1].split(\"-\")[1])\n",
    "    motif_strand=line.split()[1]\n",
    "    motif_start_pos=int(line.split()[2])\n",
    "    if motif_strand == \"+\":\n",
    "        motif_pos=motif_start_pos\n",
    "    else:\n",
    "        motif_pos=peak_end_pos-peak_start_pos-motif_start_pos\n",
    "        \n",
    "    \n",
    "    \n",
    "    matched_motifs.append(motif_pos)\n",
    "    \n",
    "print(len(matched_motifs))\n",
    "# matched_motifs \n",
    "\n",
    "fs=open(\"motif3.txt\")\n",
    "\n",
    "\n",
    "for line in fs:\n",
    "    peak_start_pos=int(line.split()[0].split(\":\")[1].split(\"-\")[0])\n",
    "    peak_end_pos=int(line.split()[0].split(\":\")[1].split(\"-\")[1])\n",
    "    motif_strand=line.split()[1]\n",
    "    motif_start_pos=int(line.split()[2])\n",
    "    if motif_strand == \"+\":\n",
    "        motif_pos=motif_start_pos\n",
    "    else:\n",
    "        motif_pos=peak_end_pos-peak_start_pos-motif_start_pos\n",
    "        \n",
    "    \n",
    "    \n",
    "    matched_motifs.append(motif_pos)\n",
    "    \n",
    "matched_motifs=np.asarray(matched_motifs)\n",
    "    \n",
    "print(len(matched_motifs))"
   ]
  },
  {
   "cell_type": "code",
   "execution_count": 10,
   "metadata": {},
   "outputs": [],
   "source": [
    "pos_min=matched_motifs.min()\n",
    "pos_max=matched_motifs.max()\n",
    "pos_max\n",
    "position=np.arange(0,600,100)\n",
    "# for pos in matched_motifs\n"
   ]
  },
  {
   "cell_type": "code",
   "execution_count": 14,
   "metadata": {},
   "outputs": [
    {
     "data": {
      "image/png": "[encoded data removed]",
      "text/plain": [
       "<Figure size 432x288 with 1 Axes>"
      ]
     },
     "metadata": {
      "needs_background": "light"
     },
     "output_type": "display_data"
    }
   ],
   "source": [
    "fig,ax=plt.subplots()\n",
    "plt.hist(matched_motifs,bins=30)\n",
    "plt.xlabel('relative x position')\n",
    "plt.ylabel('number of matched motif')\n",
    "plt.savefig('HW5_advanced_figure.png')\n",
    "plt.show()"
   ]
  },
  {
   "cell_type": "code",
   "execution_count": null,
   "metadata": {},
   "outputs": [],
   "source": []
  }
 ],
 "metadata": {
  "kernelspec": {
   "display_name": "Python 3",
   "language": "python",
   "name": "python3"
  },
  "language_info": {
   "codemirror_mode": {
    "name": "ipython",
    "version": 3
   },
   "file_extension": ".py",
   "mimetype": "text/x-python",
   "name": "python",
   "nbconvert_exporter": "python",
   "pygments_lexer": "ipython3",
   "version": "3.6.11"
  }
 },
 "nbformat": 4,
 "nbformat_minor": 4
}
