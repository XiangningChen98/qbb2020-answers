{
 "cells": [
  {
   "cell_type": "code",
   "execution_count": 1,
   "metadata": {},
   "outputs": [],
   "source": [
    "import numpy as np\n",
    "import pandas as pd\n",
    "import matplotlib.pyplot as plt\n",
    "from scipy import stats\n",
    "import statsmodels.stats.weightstats\n",
    "import math"
   ]
  },
  {
   "cell_type": "code",
   "execution_count": 19,
   "metadata": {},
   "outputs": [
    {
     "data": {
      "text/plain": [
       "['exon', 'intron', 'promoter']"
      ]
     },
     "execution_count": 19,
     "metadata": {},
     "output_type": "execute_result"
    }
   ],
   "source": [
    "ER4_fs = open(\"/Users/xiangning/qbb2020-answers/HW5/peaks/ER4_feature_count.txt\",\"r\")\n",
    "ER4_features_count=[]\n",
    "ER4_features_name=[]\n",
    "for line in ER4_fs:\n",
    "    ER4_features_count.append(int(line.split()[0]))\n",
    "    ER4_features_name.append(line.split()[1])\n",
    "    \n",
    "ER4_fs.close()\n",
    "# for ER4_feature in ER4_features:\n",
    "#     ER4_feature=int(ER4_feature)\n",
    "    \n",
    "ER4_features_name"
   ]
  },
  {
   "cell_type": "code",
   "execution_count": 20,
   "metadata": {},
   "outputs": [
    {
     "data": {
      "text/plain": [
       "[85, 308, 55]"
      ]
     },
     "execution_count": 20,
     "metadata": {},
     "output_type": "execute_result"
    }
   ],
   "source": [
    "G1E_fs = open(\"/Users/xiangning/qbb2020-answers/HW5/peaks/G1E_feature_count.txt\",\"r\")\n",
    "G1E_features_count=[]\n",
    "for line in G1E_fs:\n",
    "    G1E_features_count.append(int(line.split()[0]))\n",
    "G1E_fs.close()\n",
    "\n",
    "G1E_features_count\n"
   ]
  },
  {
   "cell_type": "code",
   "execution_count": 46,
   "metadata": {},
   "outputs": [],
   "source": [
    "gain_lost_number=[103,43]\n"
   ]
  },
  {
   "cell_type": "code",
   "execution_count": 64,
   "metadata": {},
   "outputs": [
    {
     "data": {
      "image/png": "[encoded data removed]",
      "text/plain": [
       "<Figure size 720x288 with 2 Axes>"
      ]
     },
     "metadata": {
      "needs_background": "light"
     },
     "output_type": "display_data"
    }
   ],
   "source": [
    "\n",
    "fig,ax=plt.subplots(1,2,figsize=(10, 4))\n",
    "ax[0]\n",
    "x1=[1,4,7]\n",
    "x2=[2,5,8]\n",
    "ax[0].bar(x1,G1E_features_count,color='skyblue',label='G1E',width=1)\n",
    "ax[0].bar(x2,ER4_features_count,color='salmon',label='ER4',width=1)\n",
    "ax[0].set_xticks([1.5,4.5,7.5])\n",
    "ax[0].set_xlim(-1,10)\n",
    "ax[0].set_xticklabels(ER4_features_name)\n",
    "ax[0].set_ylabel('Number of CTCF binding sites')\n",
    "ax[0].legend()\n",
    "\n",
    "\n",
    "\n",
    "\n",
    "x3=[1,2]\n",
    "ax[1].bar(x3,gain_lost_number,width=0.5,color='green')\n",
    "ax[1].set_xticks([1,2])\n",
    "ax[1].set_xticklabels(['ER4_gained','ER4_lost'])\n",
    "ax[1].set_xlim(0,3)\n",
    "ax[1].set_ylabel('Number of CTCF binding sites')\n",
    "plt.tight_layout()\n",
    "plt.savefig('HW5.png')\n",
    "plt.show()"
   ]
  },
  {
   "cell_type": "code",
   "execution_count": null,
   "metadata": {},
   "outputs": [],
   "source": []
  }
 ],
 "metadata": {
  "kernelspec": {
   "display_name": "Python 3",
   "language": "python",
   "name": "python3"
  },
  "language_info": {
   "codemirror_mode": {
    "name": "ipython",
    "version": 3
   },
   "file_extension": ".py",
   "mimetype": "text/x-python",
   "name": "python",
   "nbconvert_exporter": "python",
   "pygments_lexer": "ipython3",
   "version": "3.6.11"
  }
 },
 "nbformat": 4,
 "nbformat_minor": 4
}
