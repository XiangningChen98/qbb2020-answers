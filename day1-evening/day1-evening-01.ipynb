{
 "cells": [
  {
   "cell_type": "code",
   "execution_count": 163,
   "metadata": {},
   "outputs": [],
   "source": [
    "import numpy as np\n",
    "import pandas as pd\n",
    "import matplotlib.pyplot as plt\n",
    "import re"
   ]
  },
  {
   "cell_type": "code",
   "execution_count": 164,
   "metadata": {},
   "outputs": [],
   "source": [
    "fs = open(\"debug.sam\",\"r\")\n",
    "debug_data=[]\n",
    "for line in fs:\n",
    "    debug_data.append(line.split('\\t'))\n",
    "fs.close()\n"
   ]
  },
  {
   "cell_type": "markdown",
   "metadata": {},
   "source": [
    "# open original file"
   ]
  },
  {
   "cell_type": "code",
   "execution_count": 177,
   "metadata": {},
   "outputs": [
    {
     "data": {
      "text/plain": [
       "['SRR072893.19274188',\n",
       " '16',\n",
       " '2L',\n",
       " '12311',\n",
       " '60',\n",
       " '40M',\n",
       " '*',\n",
       " '0',\n",
       " '0',\n",
       " 'CGGCATTCAGCTGTCTTTTTAATTCAGGTACTGATAAAAC',\n",
       " 'CCCCCCCBCCCC@@CC@ACCCCACCCCCCCCCCCACCCCC',\n",
       " 'AS:i:0',\n",
       " 'XN:i:0',\n",
       " 'XM:i:0',\n",
       " 'XO:i:0',\n",
       " 'XG:i:0',\n",
       " 'NM:i:0',\n",
       " 'MD:Z:40',\n",
       " 'YT:Z:UU',\n",
       " 'NH:i:1\\n']"
      ]
     },
     "execution_count": 177,
     "metadata": {},
     "output_type": "execute_result"
    }
   ],
   "source": [
    "fs = open(\"SRR072893.sam\",\"r\")\n",
    "data=[]\n",
    "for line in fs:\n",
    "    data.append(line.split('\\t'))\n",
    "fs.close()\n",
    "data[1000]   "
   ]
  },
  {
   "cell_type": "markdown",
   "metadata": {},
   "source": [
    "# 1. Count number of alignments"
   ]
  },
  {
   "cell_type": "code",
   "execution_count": 166,
   "metadata": {},
   "outputs": [
    {
     "name": "stdout",
     "output_type": "stream",
     "text": [
      "Test-alignment number: 1000\n"
     ]
    }
   ],
   "source": [
    "print(\"Test-alignment number:\",len(debug_data))"
   ]
  },
  {
   "cell_type": "code",
   "execution_count": 167,
   "metadata": {},
   "outputs": [
    {
     "name": "stdout",
     "output_type": "stream",
     "text": [
      "Alignment number is: 2000000\n"
     ]
    }
   ],
   "source": [
    "print(\"Alignment number is:\",len(data))"
   ]
  },
  {
   "cell_type": "markdown",
   "metadata": {},
   "source": [
    "# 2. Count number of alignments that match perfectly to the genome\n"
   ]
  },
  {
   "cell_type": "code",
   "execution_count": 169,
   "metadata": {
    "scrolled": true
   },
   "outputs": [
    {
     "name": "stdout",
     "output_type": "stream",
     "text": [
      "Test: Number of alignments that match perfectly: 1578114\n"
     ]
    }
   ],
   "source": [
    "n=0\n",
    "for i in range(len(data)):\n",
    "    NM_list=data[i][-4].split(':')\n",
    "    NM=NM_list[2]\n",
    "    if NM == '0':\n",
    "        n+=1\n",
    "print('Test: Number of alignments that match perfectly:',n)  "
   ]
  },
  {
   "cell_type": "markdown",
   "metadata": {},
   "source": [
    "## Change another way to count the MN:i:0 as it may not always be the -4th item in the line. (The change was made after presentation session)"
   ]
  },
  {
   "cell_type": "code",
   "execution_count": 178,
   "metadata": {},
   "outputs": [
    {
     "name": "stdout",
     "output_type": "stream",
     "text": [
      "Test: Number of alignments that match perfectly: 1702765\n"
     ]
    }
   ],
   "source": [
    "n=0\n",
    "for i in data:\n",
    "    if 'NM:i:0' in i:\n",
    "        n+=1\n",
    "print('Test: Number of alignments that match perfectly:',n)  "
   ]
  },
  {
   "cell_type": "markdown",
   "metadata": {},
   "source": [
    "### If NM is 0, it means there's no difference between reads and reference (mismatches plus inserted and deleted bases)"
   ]
  },
  {
   "cell_type": "markdown",
   "metadata": {},
   "source": [
    "# 3. chromosomes"
   ]
  },
  {
   "cell_type": "code",
   "execution_count": 24,
   "metadata": {},
   "outputs": [
    {
     "name": "stdout",
     "output_type": "stream",
     "text": [
      "2L\n",
      "2L\n",
      "2L\n",
      "2L\n",
      "2L\n",
      "2L\n",
      "2L\n",
      "2L\n",
      "2L\n",
      "2L\n"
     ]
    }
   ],
   "source": [
    "for i in range(10):\n",
    "    print(data[i][2])"
   ]
  },
  {
   "cell_type": "markdown",
   "metadata": {},
   "source": [
    "# 4. average MAPQ score "
   ]
  },
  {
   "cell_type": "code",
   "execution_count": 28,
   "metadata": {},
   "outputs": [
    {
     "name": "stdout",
     "output_type": "stream",
     "text": [
      "Test: average MAPQ score: 59.289\n"
     ]
    }
   ],
   "source": [
    "MAPQ=[]\n",
    "for i in range(len(debug_data)):\n",
    "    MAPQ.append(float(debug_data[i][4]))\n",
    "print(\"Test: average MAPQ score:\",np.mean(MAPQ))    "
   ]
  },
  {
   "cell_type": "code",
   "execution_count": 30,
   "metadata": {},
   "outputs": [
    {
     "name": "stdout",
     "output_type": "stream",
     "text": [
      "Average MAPQ score: 59.6407825\n"
     ]
    }
   ],
   "source": [
    "MAPQ=[]\n",
    "for i in range(len(data)):\n",
    "    MAPQ.append(float(data[i][4]))\n",
    "print(\"Average MAPQ score:\",np.mean(MAPQ))    "
   ]
  },
  {
   "cell_type": "markdown",
   "metadata": {},
   "source": [
    "# 5. Count number of reads that start their alignment on chromosome 2L between base 10000 and 20000 "
   ]
  },
  {
   "cell_type": "code",
   "execution_count": 179,
   "metadata": {},
   "outputs": [
    {
     "name": "stdout",
     "output_type": "stream",
     "text": [
      "Number of reads starts between 2L 10000-20000: 7550\n"
     ]
    }
   ],
   "source": [
    "n=0\n",
    "for i in range(len(data)):\n",
    "    start_pos=int(data[i][3])\n",
    "#     length=int(len(data[i][9]))\n",
    "    end_pos=start_pos\n",
    "    if data[i][2] == '2L' and start_pos>=10000 and end_pos <=20000:\n",
    "        n+=1\n",
    "print(\"Number of reads starts between 2L 10000-20000:\",n)\n",
    "        "
   ]
  },
  {
   "cell_type": "markdown",
   "metadata": {},
   "source": [
    "# Advanced 1"
   ]
  },
  {
   "cell_type": "code",
   "execution_count": 102,
   "metadata": {},
   "outputs": [
    {
     "name": "stdout",
     "output_type": "stream",
     "text": [
      "Number of reads map to the reverse strand: 990255\n"
     ]
    }
   ],
   "source": [
    "def get_bit(byteval,idx):\n",
    "    return ((byteval&(1<<idx))!=0)\n",
    "for i in range(len(data)):\n",
    "    if get_bit(int(data[i][1]),4) ==True:\n",
    "        n+=1\n",
    "print(\"Number of reads map to the reverse strand:\",n)"
   ]
  },
  {
   "cell_type": "markdown",
   "metadata": {},
   "source": [
    "# Advanced 2"
   ]
  },
  {
   "cell_type": "code",
   "execution_count": 108,
   "metadata": {},
   "outputs": [
    {
     "name": "stdout",
     "output_type": "stream",
     "text": [
      "1386209 reads have an average quality score >30\n"
     ]
    }
   ],
   "source": [
    "n=0\n",
    "for i in range(len(data)):\n",
    "    QUAL=data[i][10]\n",
    "    score=[]\n",
    "    for j in range(len(QUAL)):\n",
    "        Q=ord(QUAL[j])-33\n",
    "        score.append(Q)\n",
    "    meanQ=np.mean(score)\n",
    "    if meanQ>30:\n",
    "        n+=1\n",
    "print(n,\"reads have an average quality score >30\")\n",
    "    \n"
   ]
  },
  {
   "cell_type": "markdown",
   "metadata": {},
   "source": [
    "# Advanced 3"
   ]
  },
  {
   "cell_type": "code",
   "execution_count": 171,
   "metadata": {},
   "outputs": [
    {
     "name": "stdout",
     "output_type": "stream",
     "text": [
      "63944 indels with length of 1\n",
      "30729 indels with length of 2\n",
      "20842 indels with length of 3\n",
      "15033 indels with length of 4\n",
      "154027 indels with length greater than 4\n"
     ]
    }
   ],
   "source": [
    "n_1=0\n",
    "n_2=0\n",
    "n_3=0\n",
    "n_4=0\n",
    "n_5=0\n",
    "for i in range(len(data)):\n",
    "    CIGAR=data[i][5]\n",
    "    number=re.findall(\"\\d+\", CIGAR)\n",
    "    indels=['I','D','N','S','X','H']\n",
    "    for indel in indels:\n",
    "        cigar_list=[]\n",
    "        for i in CIGAR: \n",
    "            if i.isalpha():\n",
    "                cigar_list.append(i)     \n",
    "            if indel in cigar_list:\n",
    "                index=cigar_list.index(indel)\n",
    "            else:\n",
    "                index = -1\n",
    "        if index >=0:\n",
    "            indel_len=int(number[index])\n",
    "            if indel_len == 1:\n",
    "                n_1 +=1\n",
    "            elif indel_len == 2:\n",
    "                n_2 +=1\n",
    "            elif indel_len == 3:\n",
    "                n_3 +=1\n",
    "            elif indel_len == 4:\n",
    "                n_4 +=1\n",
    "            else:\n",
    "                n_5 +=1\n",
    "                \n",
    "   \n",
    "print(n_1,\"indels with length of 1\")  \n",
    "print(n_2,\"indels with length of 2\")  \n",
    "print(n_3,\"indels with length of 3\")  \n",
    "print(n_4,\"indels with length of 4\")  \n",
    "print(n_5,\"indels with length greater than 4\")  \n",
    "    \n",
    "    "
   ]
  },
  {
   "cell_type": "code",
   "execution_count": null,
   "metadata": {},
   "outputs": [],
   "source": []
  }
 ],
 "metadata": {
  "kernelspec": {
   "display_name": "Python 3",
   "language": "python",
   "name": "python3"
  },
  "language_info": {
   "codemirror_mode": {
    "name": "ipython",
    "version": 3
   },
   "file_extension": ".py",
   "mimetype": "text/x-python",
   "name": "python",
   "nbconvert_exporter": "python",
   "pygments_lexer": "ipython3",
   "version": "3.6.11"
  }
 },
 "nbformat": 4,
 "nbformat_minor": 4
}
