{
 "cells": [
  {
   "cell_type": "markdown",
   "metadata": {},
   "source": [
    "# HW6"
   ]
  },
  {
   "cell_type": "code",
   "execution_count": 75,
   "metadata": {},
   "outputs": [],
   "source": [
    "import numpy as np\n",
    "import pandas as pd\n",
    "import matplotlib.pyplot as plt\n",
    "from scipy import stats\n",
    "import statsmodels.stats.weightstats\n",
    "import math"
   ]
  },
  {
   "cell_type": "code",
   "execution_count": 76,
   "metadata": {},
   "outputs": [],
   "source": [
    "mm10_ref=[]\n",
    "ref_fs = open(\"/Users/xiangning/qbb2020-answers/HW6/mm10_refseq_genes_chr6_50M_60M.bed\",\"r\")\n",
    "for line in ref_fs:\n",
    "    ID=line.split()[1]\n",
    "    chrom=line.split()[2]\n",
    "    start=int(line.split()[4])\n",
    "    end=int(line.split()[5])\n",
    "    mm10_ref.append([ID,chrom,start,end,[],[]])\n",
    "\n",
    "# mm10_ref_df=pd.DataFrame(np.array(mm10_ref),columns=['ID','chrom', 'start', 'end','E4.0','E5.5'])      "
   ]
  },
  {
   "cell_type": "code",
   "execution_count": 77,
   "metadata": {},
   "outputs": [
    {
     "data": {
      "text/plain": [
       "72893"
      ]
     },
     "execution_count": 77,
     "metadata": {},
     "output_type": "execute_result"
    }
   ],
   "source": [
    "E55_fs=open(\"/Users/xiangning/qbb2020-answers/HW6/bismark_results/extracted_results/SRR3083929_1.chr6_bismark_bt2_pe.bedGraph\",\"r\")\n",
    "E55=[]\n",
    "for line in E55_fs:\n",
    "\n",
    "    E55.append(line.split())\n",
    "\n",
    "# E55_df=pd.DataFrame(np.array(chr3929[1:]),columns=['chrom', 'start', 'end','score'])\n",
    "E55=E55[1:]\n",
    "len(E55)"
   ]
  },
  {
   "cell_type": "code",
   "execution_count": 78,
   "metadata": {},
   "outputs": [
    {
     "data": {
      "text/plain": [
       "['chr6', '49999926', '49999927', '0']"
      ]
     },
     "execution_count": 78,
     "metadata": {},
     "output_type": "execute_result"
    }
   ],
   "source": [
    "E40_fs=open(\"/Users/xiangning/qbb2020-answers/HW6/bismark_results/extracted_results/SRR3083926_1.chr6_bismark_bt2_pe.bedGraph\",\"r\")\n",
    "E40=[]\n",
    "for line in E40_fs:\n",
    "\n",
    "    E40.append(line.split())\n",
    "E40=E40[1:]\n",
    "E40[0]\n",
    "# E40_df=pd.DataFrame(np.array(chr3926[1:]),columns=['chrom', 'start', 'end','score'])\n",
    "# E40_df"
   ]
  },
  {
   "cell_type": "code",
   "execution_count": 79,
   "metadata": {},
   "outputs": [
    {
     "data": {
      "text/plain": [
       "['NM_001164734', 'chr6', 50110240, 50198598, [], []]"
      ]
     },
     "execution_count": 79,
     "metadata": {},
     "output_type": "execute_result"
    }
   ],
   "source": [
    "mm10_ref[0]"
   ]
  },
  {
   "cell_type": "code",
   "execution_count": 80,
   "metadata": {
    "scrolled": true
   },
   "outputs": [],
   "source": [
    "count=0\n",
    "for e55,e40 in zip(E55,E40):\n",
    "#     print(e55,e40)\n",
    "#     if count%200==0:\n",
    "#         print(count)\n",
    "    count+=1\n",
    "    for gene in mm10_ref:\n",
    "        \n",
    "\n",
    "#         print(gene[2],e55[1],gene[2],e55[3])\n",
    "        if (int(gene[2])<=int(e55[1])) and (int(gene[3])>=int(e55[2])):\n",
    "            gene[5].append(float(e55[3])*0.01*(int(e55[2])-int(e55[1])))\n",
    "        if (int(gene[2])<=int(e40[1])) and (int(gene[3])>=int(e40[2])):\n",
    "            gene[4].append(float(e40[3])*0.01*(int(e40[2])-int(e40[1])))\n",
    "\n",
    "\n",
    "for gene in mm10_ref:\n",
    "\n",
    "    gene.append(np.sum(gene[4]))\n",
    "#     print(gene[5])\n",
    "    gene.append(np.sum(gene[5]))\n",
    "\n",
    "    \n",
    "\n"
   ]
  },
  {
   "cell_type": "code",
   "execution_count": 81,
   "metadata": {
    "scrolled": false
   },
   "outputs": [
    {
     "name": "stderr",
     "output_type": "stream",
     "text": [
      "/Users/xiangning/miniconda3/lib/python3.6/site-packages/numpy/core/_asarray.py:83: VisibleDeprecationWarning: Creating an ndarray from ragged nested sequences (which is a list-or-tuple of lists-or-tuples-or ndarrays with different lengths or shapes) is deprecated. If you meant to do this, you must specify 'dtype=object' when creating the ndarray\n",
      "  return array(a, dtype, copy=False, order=order)\n"
     ]
    },
    {
     "data": {
      "text/html": [
       "<div>\n",
       "<style scoped>\n",
       "    .dataframe tbody tr th:only-of-type {\n",
       "        vertical-align: middle;\n",
       "    }\n",
       "\n",
       "    .dataframe tbody tr th {\n",
       "        vertical-align: top;\n",
       "    }\n",
       "\n",
       "    .dataframe thead th {\n",
       "        text-align: right;\n",
       "    }\n",
       "</style>\n",
       "<table border=\"1\" class=\"dataframe\">\n",
       "  <thead>\n",
       "    <tr style=\"text-align: right;\">\n",
       "      <th></th>\n",
       "      <th>ID</th>\n",
       "      <th>E4.4_mean</th>\n",
       "      <th>E5.5_mean</th>\n",
       "    </tr>\n",
       "  </thead>\n",
       "  <tbody>\n",
       "    <tr>\n",
       "      <th>0</th>\n",
       "      <td>NM_001164734</td>\n",
       "      <td>113.011</td>\n",
       "      <td>444.813</td>\n",
       "    </tr>\n",
       "    <tr>\n",
       "      <th>1</th>\n",
       "      <td>NM_001164733</td>\n",
       "      <td>113.011</td>\n",
       "      <td>444.813</td>\n",
       "    </tr>\n",
       "    <tr>\n",
       "      <th>2</th>\n",
       "      <td>NM_019939</td>\n",
       "      <td>113.011</td>\n",
       "      <td>444.813</td>\n",
       "    </tr>\n",
       "    <tr>\n",
       "      <th>3</th>\n",
       "      <td>NM_018769</td>\n",
       "      <td>43.6061</td>\n",
       "      <td>271.233</td>\n",
       "    </tr>\n",
       "    <tr>\n",
       "      <th>4</th>\n",
       "      <td>NM_027881</td>\n",
       "      <td>127.853</td>\n",
       "      <td>639.964</td>\n",
       "    </tr>\n",
       "    <tr>\n",
       "      <th>...</th>\n",
       "      <td>...</td>\n",
       "      <td>...</td>\n",
       "      <td>...</td>\n",
       "    </tr>\n",
       "    <tr>\n",
       "      <th>147</th>\n",
       "      <td>NM_028705</td>\n",
       "      <td>158.692</td>\n",
       "      <td>0</td>\n",
       "    </tr>\n",
       "    <tr>\n",
       "      <th>148</th>\n",
       "      <td>NM_021432</td>\n",
       "      <td>5.83333</td>\n",
       "      <td>0</td>\n",
       "    </tr>\n",
       "    <tr>\n",
       "      <th>149</th>\n",
       "      <td>NM_153574</td>\n",
       "      <td>46.8414</td>\n",
       "      <td>0</td>\n",
       "    </tr>\n",
       "    <tr>\n",
       "      <th>150</th>\n",
       "      <td>NM_001081145</td>\n",
       "      <td>10.2619</td>\n",
       "      <td>0</td>\n",
       "    </tr>\n",
       "    <tr>\n",
       "      <th>151</th>\n",
       "      <td>NM_183183</td>\n",
       "      <td>18.6182</td>\n",
       "      <td>0</td>\n",
       "    </tr>\n",
       "  </tbody>\n",
       "</table>\n",
       "<p>152 rows × 3 columns</p>\n",
       "</div>"
      ],
      "text/plain": [
       "               ID E4.4_mean E5.5_mean\n",
       "0    NM_001164734   113.011   444.813\n",
       "1    NM_001164733   113.011   444.813\n",
       "2       NM_019939   113.011   444.813\n",
       "3       NM_018769   43.6061   271.233\n",
       "4       NM_027881   127.853   639.964\n",
       "..            ...       ...       ...\n",
       "147     NM_028705   158.692         0\n",
       "148     NM_021432   5.83333         0\n",
       "149     NM_153574   46.8414         0\n",
       "150  NM_001081145   10.2619         0\n",
       "151     NM_183183   18.6182         0\n",
       "\n",
       "[152 rows x 3 columns]"
      ]
     },
     "execution_count": 81,
     "metadata": {},
     "output_type": "execute_result"
    }
   ],
   "source": [
    "mm10_ref_array=np.asarray(mm10_ref)\n",
    "gene_df=pd.DataFrame(mm10_ref_array[:,[0,6,7]],columns=['ID','E4.4_mean','E5.5_mean'])\n",
    "gene_df\n"
   ]
  },
  {
   "cell_type": "code",
   "execution_count": 82,
   "metadata": {},
   "outputs": [
    {
     "data": {
      "text/html": [
       "<div>\n",
       "<style scoped>\n",
       "    .dataframe tbody tr th:only-of-type {\n",
       "        vertical-align: middle;\n",
       "    }\n",
       "\n",
       "    .dataframe tbody tr th {\n",
       "        vertical-align: top;\n",
       "    }\n",
       "\n",
       "    .dataframe thead th {\n",
       "        text-align: right;\n",
       "    }\n",
       "</style>\n",
       "<table border=\"1\" class=\"dataframe\">\n",
       "  <thead>\n",
       "    <tr style=\"text-align: right;\">\n",
       "      <th></th>\n",
       "      <th>ID</th>\n",
       "      <th>E4.4_mean</th>\n",
       "      <th>E5.5_mean</th>\n",
       "    </tr>\n",
       "  </thead>\n",
       "  <tbody>\n",
       "    <tr>\n",
       "      <th>0</th>\n",
       "      <td>NM_001164734</td>\n",
       "      <td>113.011067</td>\n",
       "      <td>444.813</td>\n",
       "    </tr>\n",
       "    <tr>\n",
       "      <th>1</th>\n",
       "      <td>NM_001164733</td>\n",
       "      <td>113.011067</td>\n",
       "      <td>444.813</td>\n",
       "    </tr>\n",
       "    <tr>\n",
       "      <th>2</th>\n",
       "      <td>NM_019939</td>\n",
       "      <td>113.011067</td>\n",
       "      <td>444.813</td>\n",
       "    </tr>\n",
       "    <tr>\n",
       "      <th>3</th>\n",
       "      <td>NM_018769</td>\n",
       "      <td>43.606061</td>\n",
       "      <td>271.233</td>\n",
       "    </tr>\n",
       "    <tr>\n",
       "      <th>4</th>\n",
       "      <td>NM_027881</td>\n",
       "      <td>127.852720</td>\n",
       "      <td>639.964</td>\n",
       "    </tr>\n",
       "    <tr>\n",
       "      <th>...</th>\n",
       "      <td>...</td>\n",
       "      <td>...</td>\n",
       "      <td>...</td>\n",
       "    </tr>\n",
       "    <tr>\n",
       "      <th>147</th>\n",
       "      <td>NM_028705</td>\n",
       "      <td>158.691667</td>\n",
       "      <td>0</td>\n",
       "    </tr>\n",
       "    <tr>\n",
       "      <th>148</th>\n",
       "      <td>NM_021432</td>\n",
       "      <td>5.833333</td>\n",
       "      <td>0</td>\n",
       "    </tr>\n",
       "    <tr>\n",
       "      <th>149</th>\n",
       "      <td>NM_153574</td>\n",
       "      <td>46.841429</td>\n",
       "      <td>0</td>\n",
       "    </tr>\n",
       "    <tr>\n",
       "      <th>150</th>\n",
       "      <td>NM_001081145</td>\n",
       "      <td>10.261905</td>\n",
       "      <td>0</td>\n",
       "    </tr>\n",
       "    <tr>\n",
       "      <th>151</th>\n",
       "      <td>NM_183183</td>\n",
       "      <td>18.618182</td>\n",
       "      <td>0</td>\n",
       "    </tr>\n",
       "  </tbody>\n",
       "</table>\n",
       "<p>131 rows × 3 columns</p>\n",
       "</div>"
      ],
      "text/plain": [
       "               ID   E4.4_mean E5.5_mean\n",
       "0    NM_001164734  113.011067   444.813\n",
       "1    NM_001164733  113.011067   444.813\n",
       "2       NM_019939  113.011067   444.813\n",
       "3       NM_018769   43.606061   271.233\n",
       "4       NM_027881  127.852720   639.964\n",
       "..            ...         ...       ...\n",
       "147     NM_028705  158.691667         0\n",
       "148     NM_021432    5.833333         0\n",
       "149     NM_153574   46.841429         0\n",
       "150  NM_001081145   10.261905         0\n",
       "151     NM_183183   18.618182         0\n",
       "\n",
       "[131 rows x 3 columns]"
      ]
     },
     "execution_count": 82,
     "metadata": {},
     "output_type": "execute_result"
    }
   ],
   "source": [
    "gene_df['E4.4_mean'] = pd.to_numeric(gene_df['E4.4_mean'])\n",
    "gene_df.drop(gene_df[gene_df['E4.4_mean']==0].index, inplace = True) \n",
    "gene_processed_df=gene_df.dropna()\n",
    "gene_processed_df"
   ]
  },
  {
   "cell_type": "code",
   "execution_count": 83,
   "metadata": {},
   "outputs": [
    {
     "data": {
      "text/html": [
       "<div>\n",
       "<style scoped>\n",
       "    .dataframe tbody tr th:only-of-type {\n",
       "        vertical-align: middle;\n",
       "    }\n",
       "\n",
       "    .dataframe tbody tr th {\n",
       "        vertical-align: top;\n",
       "    }\n",
       "\n",
       "    .dataframe thead th {\n",
       "        text-align: right;\n",
       "    }\n",
       "</style>\n",
       "<table border=\"1\" class=\"dataframe\">\n",
       "  <thead>\n",
       "    <tr style=\"text-align: right;\">\n",
       "      <th></th>\n",
       "      <th>ID</th>\n",
       "      <th>E4.4_mean</th>\n",
       "      <th>E5.5_mean</th>\n",
       "      <th>fold</th>\n",
       "    </tr>\n",
       "  </thead>\n",
       "  <tbody>\n",
       "    <tr>\n",
       "      <th>0</th>\n",
       "      <td>NM_001164734</td>\n",
       "      <td>113.011067</td>\n",
       "      <td>444.813</td>\n",
       "      <td>2.93602</td>\n",
       "    </tr>\n",
       "    <tr>\n",
       "      <th>1</th>\n",
       "      <td>NM_001164733</td>\n",
       "      <td>113.011067</td>\n",
       "      <td>444.813</td>\n",
       "      <td>2.93602</td>\n",
       "    </tr>\n",
       "    <tr>\n",
       "      <th>2</th>\n",
       "      <td>NM_019939</td>\n",
       "      <td>113.011067</td>\n",
       "      <td>444.813</td>\n",
       "      <td>2.93602</td>\n",
       "    </tr>\n",
       "    <tr>\n",
       "      <th>3</th>\n",
       "      <td>NM_018769</td>\n",
       "      <td>43.606061</td>\n",
       "      <td>271.233</td>\n",
       "      <td>5.22008</td>\n",
       "    </tr>\n",
       "    <tr>\n",
       "      <th>4</th>\n",
       "      <td>NM_027881</td>\n",
       "      <td>127.852720</td>\n",
       "      <td>639.964</td>\n",
       "      <td>4.00548</td>\n",
       "    </tr>\n",
       "    <tr>\n",
       "      <th>...</th>\n",
       "      <td>...</td>\n",
       "      <td>...</td>\n",
       "      <td>...</td>\n",
       "      <td>...</td>\n",
       "    </tr>\n",
       "    <tr>\n",
       "      <th>147</th>\n",
       "      <td>NM_028705</td>\n",
       "      <td>158.691667</td>\n",
       "      <td>0</td>\n",
       "      <td>-1</td>\n",
       "    </tr>\n",
       "    <tr>\n",
       "      <th>148</th>\n",
       "      <td>NM_021432</td>\n",
       "      <td>5.833333</td>\n",
       "      <td>0</td>\n",
       "      <td>-1</td>\n",
       "    </tr>\n",
       "    <tr>\n",
       "      <th>149</th>\n",
       "      <td>NM_153574</td>\n",
       "      <td>46.841429</td>\n",
       "      <td>0</td>\n",
       "      <td>-1</td>\n",
       "    </tr>\n",
       "    <tr>\n",
       "      <th>150</th>\n",
       "      <td>NM_001081145</td>\n",
       "      <td>10.261905</td>\n",
       "      <td>0</td>\n",
       "      <td>-1</td>\n",
       "    </tr>\n",
       "    <tr>\n",
       "      <th>151</th>\n",
       "      <td>NM_183183</td>\n",
       "      <td>18.618182</td>\n",
       "      <td>0</td>\n",
       "      <td>-1</td>\n",
       "    </tr>\n",
       "  </tbody>\n",
       "</table>\n",
       "<p>131 rows × 4 columns</p>\n",
       "</div>"
      ],
      "text/plain": [
       "               ID   E4.4_mean E5.5_mean     fold\n",
       "0    NM_001164734  113.011067   444.813  2.93602\n",
       "1    NM_001164733  113.011067   444.813  2.93602\n",
       "2       NM_019939  113.011067   444.813  2.93602\n",
       "3       NM_018769   43.606061   271.233  5.22008\n",
       "4       NM_027881  127.852720   639.964  4.00548\n",
       "..            ...         ...       ...      ...\n",
       "147     NM_028705  158.691667         0       -1\n",
       "148     NM_021432    5.833333         0       -1\n",
       "149     NM_153574   46.841429         0       -1\n",
       "150  NM_001081145   10.261905         0       -1\n",
       "151     NM_183183   18.618182         0       -1\n",
       "\n",
       "[131 rows x 4 columns]"
      ]
     },
     "execution_count": 83,
     "metadata": {},
     "output_type": "execute_result"
    }
   ],
   "source": [
    "gene_processed_df['fold']=(gene_processed_df['E5.5_mean']-gene_processed_df['E4.4_mean'])/gene_processed_df['E4.4_mean']\n",
    "gene_processed_df"
   ]
  },
  {
   "cell_type": "code",
   "execution_count": 84,
   "metadata": {},
   "outputs": [],
   "source": [
    "gene_processed_df.to_csv (\"gene_methylation_enrichment.csv\", index = False, header=True)"
   ]
  },
  {
   "cell_type": "code",
   "execution_count": null,
   "metadata": {},
   "outputs": [],
   "source": []
  }
 ],
 "metadata": {
  "kernelspec": {
   "display_name": "Python 3",
   "language": "python",
   "name": "python3"
  },
  "language_info": {
   "codemirror_mode": {
    "name": "ipython",
    "version": 3
   },
   "file_extension": ".py",
   "mimetype": "text/x-python",
   "name": "python",
   "nbconvert_exporter": "python",
   "pygments_lexer": "ipython3",
   "version": "3.6.11"
  }
 },
 "nbformat": 4,
 "nbformat_minor": 4
}
