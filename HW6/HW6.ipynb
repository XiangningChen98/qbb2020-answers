{
 "cells": [
  {
   "cell_type": "code",
   "execution_count": 1,
   "metadata": {},
   "outputs": [],
   "source": [
    "import numpy as np\n",
    "import pandas as pd\n",
    "import matplotlib.pyplot as plt\n",
    "from scipy import stats\n",
    "import statsmodels.stats.weightstats\n",
    "import math"
   ]
  },
  {
   "cell_type": "code",
   "execution_count": 2,
   "metadata": {},
   "outputs": [],
   "source": [
    "mm10_ref=[]\n",
    "ref_fs = open(\"/Users/xiangning/qbb2020-answers/HW6/mm10_refseq_genes_chr6_50M_60M.bed\",\"r\")\n",
    "for line in ref_fs:\n",
    "    ID=line.split()[1]\n",
    "    chrom=line.split()[2]\n",
    "    start=int(line.split()[4])\n",
    "    end=int(line.split()[5])\n",
    "    mm10_ref.append([ID,chrom,start,end,[],[]])\n",
    "\n",
    "# mm10_ref_df=pd.DataFrame(np.array(mm10_ref),columns=['ID','chrom', 'start', 'end','E4.0','E5.5'])      "
   ]
  },
  {
   "cell_type": "code",
   "execution_count": 3,
   "metadata": {},
   "outputs": [
    {
     "data": {
      "text/plain": [
       "72893"
      ]
     },
     "execution_count": 3,
     "metadata": {},
     "output_type": "execute_result"
    }
   ],
   "source": [
    "E55_fs=open(\"/Users/xiangning/qbb2020-answers/HW6/bismark_results/extracted_results/SRR3083929_1.chr6_bismark_bt2_pe.bedGraph\",\"r\")\n",
    "E55=[]\n",
    "for line in E55_fs:\n",
    "\n",
    "    E55.append(line.split())\n",
    "\n",
    "# E55_df=pd.DataFrame(np.array(chr3929[1:]),columns=['chrom', 'start', 'end','score'])\n",
    "E55=E55[1:]\n",
    "len(E55)"
   ]
  },
  {
   "cell_type": "code",
   "execution_count": 4,
   "metadata": {},
   "outputs": [
    {
     "data": {
      "text/plain": [
       "['chr6', '49999926', '49999927', '0']"
      ]
     },
     "execution_count": 4,
     "metadata": {},
     "output_type": "execute_result"
    }
   ],
   "source": [
    "E40_fs=open(\"/Users/xiangning/qbb2020-answers/HW6/bismark_results/extracted_results/SRR3083926_1.chr6_bismark_bt2_pe.bedGraph\",\"r\")\n",
    "E40=[]\n",
    "for line in E40_fs:\n",
    "\n",
    "    E40.append(line.split())\n",
    "E40=E40[1:]\n",
    "E40[0]\n",
    "# E40_df=pd.DataFrame(np.array(chr3926[1:]),columns=['chrom', 'start', 'end','score'])\n",
    "# E40_df"
   ]
  },
  {
   "cell_type": "code",
   "execution_count": 6,
   "metadata": {
    "scrolled": true
   },
   "outputs": [
    {
     "name": "stderr",
     "output_type": "stream",
     "text": [
      "/Users/xiangning/miniconda3/lib/python3.6/site-packages/numpy/core/fromnumeric.py:3373: RuntimeWarning: Mean of empty slice.\n",
      "  out=out, **kwargs)\n",
      "/Users/xiangning/miniconda3/lib/python3.6/site-packages/numpy/core/_methods.py:170: RuntimeWarning: invalid value encountered in double_scalars\n",
      "  ret = ret.dtype.type(ret / rcount)\n"
     ]
    }
   ],
   "source": [
    "count=0\n",
    "for e55,e40 in zip(E55,E40):\n",
    "#     print(e55,e40)\n",
    "#     if count%200==0:\n",
    "#         print(count)\n",
    "    count+=1\n",
    "    for gene in mm10_ref:\n",
    "        \n",
    "\n",
    "#         print(gene[2],e55[1],gene[3],e55[2])\n",
    "        if (int(gene[2])<=int(e55[1])) and (int(gene[3])>=int(e55[2])):\n",
    "            gene[5].append(float(e55[3]))\n",
    "        if (int(gene[2])<=int(e40[1])) and (int(gene[3])>=int(e40[2])):\n",
    "            gene[4].append(float(e40[3]))\n",
    "\n",
    "\n",
    "for gene in mm10_ref:\n",
    "    gene.append(np.mean(gene[4]))\n",
    "#     print(gene[5])\n",
    "    gene.append(np.mean(gene[5]))\n",
    "\n",
    "    \n",
    "\n"
   ]
  },
  {
   "cell_type": "code",
   "execution_count": 7,
   "metadata": {},
   "outputs": [
    {
     "name": "stderr",
     "output_type": "stream",
     "text": [
      "/Users/xiangning/miniconda3/lib/python3.6/site-packages/numpy/core/_asarray.py:83: VisibleDeprecationWarning: Creating an ndarray from ragged nested sequences (which is a list-or-tuple of lists-or-tuples-or ndarrays with different lengths or shapes) is deprecated. If you meant to do this, you must specify 'dtype=object' when creating the ndarray\n",
      "  return array(a, dtype, copy=False, order=order)\n"
     ]
    },
    {
     "data": {
      "text/html": [
       "<div>\n",
       "<style scoped>\n",
       "    .dataframe tbody tr th:only-of-type {\n",
       "        vertical-align: middle;\n",
       "    }\n",
       "\n",
       "    .dataframe tbody tr th {\n",
       "        vertical-align: top;\n",
       "    }\n",
       "\n",
       "    .dataframe thead th {\n",
       "        text-align: right;\n",
       "    }\n",
       "</style>\n",
       "<table border=\"1\" class=\"dataframe\">\n",
       "  <thead>\n",
       "    <tr style=\"text-align: right;\">\n",
       "      <th></th>\n",
       "      <th>ID</th>\n",
       "      <th>E4.4_mean</th>\n",
       "      <th>E5.5_mean</th>\n",
       "    </tr>\n",
       "  </thead>\n",
       "  <tbody>\n",
       "    <tr>\n",
       "      <th>0</th>\n",
       "      <td>NM_001164734</td>\n",
       "      <td>24.9473</td>\n",
       "      <td>71.6286</td>\n",
       "    </tr>\n",
       "    <tr>\n",
       "      <th>1</th>\n",
       "      <td>NM_001164733</td>\n",
       "      <td>24.9473</td>\n",
       "      <td>71.6286</td>\n",
       "    </tr>\n",
       "    <tr>\n",
       "      <th>2</th>\n",
       "      <td>NM_019939</td>\n",
       "      <td>24.9473</td>\n",
       "      <td>71.6286</td>\n",
       "    </tr>\n",
       "    <tr>\n",
       "      <th>3</th>\n",
       "      <td>NM_018769</td>\n",
       "      <td>16.2709</td>\n",
       "      <td>65.2003</td>\n",
       "    </tr>\n",
       "    <tr>\n",
       "      <th>4</th>\n",
       "      <td>NM_027881</td>\n",
       "      <td>18.4492</td>\n",
       "      <td>76.3681</td>\n",
       "    </tr>\n",
       "    <tr>\n",
       "      <th>...</th>\n",
       "      <td>...</td>\n",
       "      <td>...</td>\n",
       "      <td>...</td>\n",
       "    </tr>\n",
       "    <tr>\n",
       "      <th>147</th>\n",
       "      <td>NM_028705</td>\n",
       "      <td>34.7247</td>\n",
       "      <td>NaN</td>\n",
       "    </tr>\n",
       "    <tr>\n",
       "      <th>148</th>\n",
       "      <td>NM_021432</td>\n",
       "      <td>17.6768</td>\n",
       "      <td>NaN</td>\n",
       "    </tr>\n",
       "    <tr>\n",
       "      <th>149</th>\n",
       "      <td>NM_153574</td>\n",
       "      <td>13.1577</td>\n",
       "      <td>NaN</td>\n",
       "    </tr>\n",
       "    <tr>\n",
       "      <th>150</th>\n",
       "      <td>NM_001081145</td>\n",
       "      <td>23.3225</td>\n",
       "      <td>NaN</td>\n",
       "    </tr>\n",
       "    <tr>\n",
       "      <th>151</th>\n",
       "      <td>NM_183183</td>\n",
       "      <td>10.5187</td>\n",
       "      <td>NaN</td>\n",
       "    </tr>\n",
       "  </tbody>\n",
       "</table>\n",
       "<p>152 rows × 3 columns</p>\n",
       "</div>"
      ],
      "text/plain": [
       "               ID E4.4_mean E5.5_mean\n",
       "0    NM_001164734   24.9473   71.6286\n",
       "1    NM_001164733   24.9473   71.6286\n",
       "2       NM_019939   24.9473   71.6286\n",
       "3       NM_018769   16.2709   65.2003\n",
       "4       NM_027881   18.4492   76.3681\n",
       "..            ...       ...       ...\n",
       "147     NM_028705   34.7247       NaN\n",
       "148     NM_021432   17.6768       NaN\n",
       "149     NM_153574   13.1577       NaN\n",
       "150  NM_001081145   23.3225       NaN\n",
       "151     NM_183183   10.5187       NaN\n",
       "\n",
       "[152 rows x 3 columns]"
      ]
     },
     "execution_count": 7,
     "metadata": {},
     "output_type": "execute_result"
    }
   ],
   "source": [
    "mm10_ref_array=np.asarray(mm10_ref)\n",
    "gene_df=pd.DataFrame(mm10_ref_array[:,[0,6,7]],columns=['ID','E4.4_mean','E5.5_mean'])\n",
    "gene_df\n"
   ]
  },
  {
   "cell_type": "code",
   "execution_count": 8,
   "metadata": {},
   "outputs": [],
   "source": [
    "gene_processed_df=gene_df.dropna()"
   ]
  },
  {
   "cell_type": "code",
   "execution_count": 9,
   "metadata": {},
   "outputs": [
    {
     "name": "stderr",
     "output_type": "stream",
     "text": [
      "/Users/xiangning/miniconda3/lib/python3.6/site-packages/ipykernel_launcher.py:1: SettingWithCopyWarning: \n",
      "A value is trying to be set on a copy of a slice from a DataFrame.\n",
      "Try using .loc[row_indexer,col_indexer] = value instead\n",
      "\n",
      "See the caveats in the documentation: https://pandas.pydata.org/pandas-docs/stable/user_guide/indexing.html#returning-a-view-versus-a-copy\n",
      "  \"\"\"Entry point for launching an IPython kernel.\n"
     ]
    },
    {
     "data": {
      "text/html": [
       "<div>\n",
       "<style scoped>\n",
       "    .dataframe tbody tr th:only-of-type {\n",
       "        vertical-align: middle;\n",
       "    }\n",
       "\n",
       "    .dataframe tbody tr th {\n",
       "        vertical-align: top;\n",
       "    }\n",
       "\n",
       "    .dataframe thead th {\n",
       "        text-align: right;\n",
       "    }\n",
       "</style>\n",
       "<table border=\"1\" class=\"dataframe\">\n",
       "  <thead>\n",
       "    <tr style=\"text-align: right;\">\n",
       "      <th></th>\n",
       "      <th>ID</th>\n",
       "      <th>E4.4_mean</th>\n",
       "      <th>E5.5_mean</th>\n",
       "      <th>fold</th>\n",
       "    </tr>\n",
       "  </thead>\n",
       "  <tbody>\n",
       "    <tr>\n",
       "      <th>0</th>\n",
       "      <td>NM_001164734</td>\n",
       "      <td>24.9473</td>\n",
       "      <td>71.6286</td>\n",
       "      <td>1.8712</td>\n",
       "    </tr>\n",
       "    <tr>\n",
       "      <th>1</th>\n",
       "      <td>NM_001164733</td>\n",
       "      <td>24.9473</td>\n",
       "      <td>71.6286</td>\n",
       "      <td>1.8712</td>\n",
       "    </tr>\n",
       "    <tr>\n",
       "      <th>2</th>\n",
       "      <td>NM_019939</td>\n",
       "      <td>24.9473</td>\n",
       "      <td>71.6286</td>\n",
       "      <td>1.8712</td>\n",
       "    </tr>\n",
       "    <tr>\n",
       "      <th>3</th>\n",
       "      <td>NM_018769</td>\n",
       "      <td>16.2709</td>\n",
       "      <td>65.2003</td>\n",
       "      <td>3.00717</td>\n",
       "    </tr>\n",
       "    <tr>\n",
       "      <th>4</th>\n",
       "      <td>NM_027881</td>\n",
       "      <td>18.4492</td>\n",
       "      <td>76.3681</td>\n",
       "      <td>3.13938</td>\n",
       "    </tr>\n",
       "    <tr>\n",
       "      <th>...</th>\n",
       "      <td>...</td>\n",
       "      <td>...</td>\n",
       "      <td>...</td>\n",
       "      <td>...</td>\n",
       "    </tr>\n",
       "    <tr>\n",
       "      <th>102</th>\n",
       "      <td>NM_011054</td>\n",
       "      <td>26.1707</td>\n",
       "      <td>64.5859</td>\n",
       "      <td>1.46787</td>\n",
       "    </tr>\n",
       "    <tr>\n",
       "      <th>103</th>\n",
       "      <td>NM_001159960</td>\n",
       "      <td>25.8899</td>\n",
       "      <td>64.899</td>\n",
       "      <td>1.50673</td>\n",
       "    </tr>\n",
       "    <tr>\n",
       "      <th>104</th>\n",
       "      <td>NM_001159952</td>\n",
       "      <td>25.9157</td>\n",
       "      <td>65.0923</td>\n",
       "      <td>1.51169</td>\n",
       "    </tr>\n",
       "    <tr>\n",
       "      <th>105</th>\n",
       "      <td>NM_001159957</td>\n",
       "      <td>25.4344</td>\n",
       "      <td>64.6531</td>\n",
       "      <td>1.54196</td>\n",
       "    </tr>\n",
       "    <tr>\n",
       "      <th>106</th>\n",
       "      <td>NM_001025568</td>\n",
       "      <td>25.9157</td>\n",
       "      <td>65.0923</td>\n",
       "      <td>1.51169</td>\n",
       "    </tr>\n",
       "  </tbody>\n",
       "</table>\n",
       "<p>106 rows × 4 columns</p>\n",
       "</div>"
      ],
      "text/plain": [
       "               ID E4.4_mean E5.5_mean     fold\n",
       "0    NM_001164734   24.9473   71.6286   1.8712\n",
       "1    NM_001164733   24.9473   71.6286   1.8712\n",
       "2       NM_019939   24.9473   71.6286   1.8712\n",
       "3       NM_018769   16.2709   65.2003  3.00717\n",
       "4       NM_027881   18.4492   76.3681  3.13938\n",
       "..            ...       ...       ...      ...\n",
       "102     NM_011054   26.1707   64.5859  1.46787\n",
       "103  NM_001159960   25.8899    64.899  1.50673\n",
       "104  NM_001159952   25.9157   65.0923  1.51169\n",
       "105  NM_001159957   25.4344   64.6531  1.54196\n",
       "106  NM_001025568   25.9157   65.0923  1.51169\n",
       "\n",
       "[106 rows x 4 columns]"
      ]
     },
     "execution_count": 9,
     "metadata": {},
     "output_type": "execute_result"
    }
   ],
   "source": [
    "gene_processed_df['fold']=(gene_processed_df['E5.5_mean']-gene_processed_df['E4.4_mean'])/gene_processed_df['E4.4_mean']\n",
    "gene_processed_df"
   ]
  },
  {
   "cell_type": "code",
   "execution_count": 10,
   "metadata": {},
   "outputs": [],
   "source": [
    "gene_processed_df.to_csv (\"gene_methylation_enrichment.csv\", index = False, header=True)"
   ]
  },
  {
   "cell_type": "code",
   "execution_count": null,
   "metadata": {},
   "outputs": [],
   "source": []
  }
 ],
 "metadata": {
  "kernelspec": {
   "display_name": "Python 3",
   "language": "python",
   "name": "python3"
  },
  "language_info": {
   "codemirror_mode": {
    "name": "ipython",
    "version": 3
   },
   "file_extension": ".py",
   "mimetype": "text/x-python",
   "name": "python",
   "nbconvert_exporter": "python",
   "pygments_lexer": "ipython3",
   "version": "3.6.11"
  }
 },
 "nbformat": 4,
 "nbformat_minor": 4
}
