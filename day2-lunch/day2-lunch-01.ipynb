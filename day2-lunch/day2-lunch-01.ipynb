{
 "cells": [
  {
   "cell_type": "markdown",
   "metadata": {},
   "source": [
    "## Load data"
   ]
  },
  {
   "cell_type": "code",
   "execution_count": 12,
   "metadata": {},
   "outputs": [
    {
     "name": "stdout",
     "output_type": "stream",
     "text": [
      "['128up', '128UP_DROME', 'P32234', 'FBgn0010339']\n",
      "3685\n"
     ]
    }
   ],
   "source": [
    "fs = open('/Users/xiangning/qbb2020-answers/day2-lunch/fly.txt','r')\n",
    "data=[]\n",
    "for line in fs:\n",
    "    if \"DROME\" in line and 'FBgn' in line:\n",
    "        data.append(line.rstrip().split())\n",
    "fs.close()\n",
    "print(data[0]  ) \n",
    "print(len(data))"
   ]
  },
  {
   "cell_type": "code",
   "execution_count": 15,
   "metadata": {},
   "outputs": [],
   "source": [
    "ID_D={}\n",
    "for i in range(len(data)):\n",
    "    ID_D[data[i][3]]=data[i][2]"
   ]
  },
  {
   "cell_type": "markdown",
   "metadata": {},
   "source": [
    "## output to a txt file"
   ]
  },
  {
   "cell_type": "code",
   "execution_count": 17,
   "metadata": {},
   "outputs": [],
   "source": [
    "fs = open('/Users/xiangning/qbb2020-answers/day2-lunch/fly_map.txt','a')\n",
    "for k,v in list(ID_D.items()):\n",
    "    fs.write(k+'\\t\\t'+v+'\\r\\n')\n",
    "fs.close()"
   ]
  },
  {
   "cell_type": "code",
   "execution_count": null,
   "metadata": {},
   "outputs": [],
   "source": []
  }
 ],
 "metadata": {
  "kernelspec": {
   "display_name": "Python 3",
   "language": "python",
   "name": "python3"
  },
  "language_info": {
   "codemirror_mode": {
    "name": "ipython",
    "version": 3
   },
   "file_extension": ".py",
   "mimetype": "text/x-python",
   "name": "python",
   "nbconvert_exporter": "python",
   "pygments_lexer": "ipython3",
   "version": "3.6.11"
  }
 },
 "nbformat": 4,
 "nbformat_minor": 4
}
