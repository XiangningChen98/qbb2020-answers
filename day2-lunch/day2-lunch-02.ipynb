{
 "cells": [
  {
   "cell_type": "code",
   "execution_count": 23,
   "metadata": {},
   "outputs": [],
   "source": [
    "import numpy as np\n",
    "import pandas as pd\n",
    "import matplotlib.pyplot as plt\n",
    "import copy"
   ]
  },
  {
   "cell_type": "code",
   "execution_count": 38,
   "metadata": {},
   "outputs": [],
   "source": [
    "def identifier(file1,file2,ignore_value):\n",
    "    ### This function is used to translate gene_id to UniPort ID. \n",
    "    ### file1 is the mapping file, file2 is the ctab file\n",
    "    ### If ignore_value == 0, the line not found will be ignored, or it will replace the gene_id with \"******\"\n",
    "    \n",
    "    fs1 = open(file1,'r')\n",
    "    mapping=[]\n",
    "    ctab=[]\n",
    "    for line in fs1:\n",
    "        mapping.append(line.rstrip().split())\n",
    "    fs2 = open(file2,'r')\n",
    "    for line in fs2:\n",
    "        if \"t_id\" in line:\n",
    "            print(line.rstrip().split())\n",
    "        else:\n",
    "            ctab.append(line.rstrip().split())\n",
    "    print(\"mapping_length:\",len(mapping),'\\n',\"ctab_length\",len(ctab))\n",
    "    #build the dict of mapping file\n",
    "    D_map={}\n",
    "    for item in mapping:\n",
    "        D_map[item[0]]=item[1]\n",
    "    #go through the ctab file\n",
    "    output=[]\n",
    "    for c in ctab:\n",
    "        c_copy=copy.deepcopy(c)\n",
    "        if c_copy[8] in list(D_map.keys()):\n",
    "            c_copy[8]=D_map[c_copy[8]]\n",
    "            output.append(c_copy)\n",
    "        else:\n",
    "            if ignore_value == 0:\n",
    "                pass\n",
    "            else:\n",
    "                c_copy[8] = \"******\"\n",
    "                output.append(c_copy)\n",
    "    return output\n",
    "                \n",
    "                \n",
    "                \n",
    "                \n",
    "                \n",
    "        \n",
    "    "
   ]
  },
  {
   "cell_type": "code",
   "execution_count": 34,
   "metadata": {
    "scrolled": true
   },
   "outputs": [
    {
     "name": "stdout",
     "output_type": "stream",
     "text": [
      "['t_id', 'chr', 'strand', 'start', 'end', 't_name', 'num_exons', 'length', 'gene_id', 'gene_name', 'cov', 'FPKM']\n",
      "mapping_length: 3685 \n",
      " ctab_length 34718\n"
     ]
    }
   ],
   "source": [
    "file1=\"/Users/xiangning/qbb2020-answers/day2-lunch/fly_map.txt\"\n",
    "file2=\"/Users/xiangning/data/results/stringtie/SRR072893/t_data.ctab\"\n",
    "output1=identifier(file1,file2,ignore_value=0)\n",
    "with open('day2_lunch_output_ignore.txt', 'w') as f:\n",
    "    for item in output1[0:100]:\n",
    "        for h in item:\n",
    "            f.write(\"%s\\t\" % h)\n",
    "        f.write('\\n')\n",
    "f.close()\n",
    "###output with ingoring line is in file day2_lunch_out_ignore.txt)"
   ]
  },
  {
   "cell_type": "code",
   "execution_count": 39,
   "metadata": {},
   "outputs": [
    {
     "name": "stdout",
     "output_type": "stream",
     "text": [
      "['t_id', 'chr', 'strand', 'start', 'end', 't_name', 'num_exons', 'length', 'gene_id', 'gene_name', 'cov', 'FPKM']\n",
      "mapping_length: 3685 \n",
      " ctab_length 34718\n"
     ]
    }
   ],
   "source": [
    "output2=identifier(file1,file2,ignore_value=1)\n",
    "with open('day2_lunch_output_not_found.txt', 'w') as f:\n",
    "    for item in output2[0:100]:\n",
    "        for h in item:\n",
    "            f.write(\"%s\\t\" % h)\n",
    "        f.write('\\n')\n",
    "f.close()\n",
    "###output with ***** replace gene_id if not found is in file day2_lunch_out_not_found.txt)"
   ]
  },
  {
   "cell_type": "code",
   "execution_count": null,
   "metadata": {},
   "outputs": [],
   "source": []
  }
 ],
 "metadata": {
  "kernelspec": {
   "display_name": "Python 3",
   "language": "python",
   "name": "python3"
  },
  "language_info": {
   "codemirror_mode": {
    "name": "ipython",
    "version": 3
   },
   "file_extension": ".py",
   "mimetype": "text/x-python",
   "name": "python",
   "nbconvert_exporter": "python",
   "pygments_lexer": "ipython3",
   "version": "3.6.11"
  }
 },
 "nbformat": 4,
 "nbformat_minor": 4
}
